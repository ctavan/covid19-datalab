{
 "cells": [
  {
   "cell_type": "code",
   "execution_count": null,
   "metadata": {},
   "outputs": [],
   "source": [
    "#!conda update -y -n base -c defaults conda"
   ]
  },
  {
   "cell_type": "code",
   "execution_count": null,
   "metadata": {},
   "outputs": [],
   "source": [
    "!conda install -y scipy seaborn"
   ]
  },
  {
   "cell_type": "code",
   "execution_count": null,
   "metadata": {},
   "outputs": [],
   "source": [
    "import pandas as pd\n",
    "import requests\n",
    "from io import BytesIO\n",
    "import seaborn as sns\n",
    "sns.set(style=\"darkgrid\")\n",
    "import matplotlib.pyplot as plt\n",
    "import numpy as np\n",
    "import json"
   ]
  },
  {
   "cell_type": "code",
   "execution_count": null,
   "metadata": {},
   "outputs": [],
   "source": [
    "url=\"https://raw.githubusercontent.com/CSSEGISandData/COVID-19/master/csse_covid_19_data/csse_covid_19_time_series/time_series_19-covid-Confirmed.csv\"\n",
    "s=requests.get(url).content\n",
    "confirmed = pd.read_csv(BytesIO(s))"
   ]
  },
  {
   "cell_type": "code",
   "execution_count": null,
   "metadata": {},
   "outputs": [],
   "source": [
    "url=\"https://raw.githubusercontent.com/CSSEGISandData/COVID-19/master/csse_covid_19_data/csse_covid_19_time_series/time_series_19-covid-Deaths.csv\"\n",
    "s=requests.get(url).content\n",
    "deaths = pd.read_csv(BytesIO(s))"
   ]
  },
  {
   "cell_type": "code",
   "execution_count": null,
   "metadata": {},
   "outputs": [],
   "source": [
    "url=\"https://raw.githubusercontent.com/CSSEGISandData/COVID-19/master/csse_covid_19_data/csse_covid_19_time_series/time_series_19-covid-Recovered.csv\"\n",
    "s=requests.get(url).content\n",
    "recovered = pd.read_csv(BytesIO(s))"
   ]
  },
  {
   "cell_type": "code",
   "execution_count": null,
   "metadata": {},
   "outputs": [],
   "source": [
    "OFFSET = 100"
   ]
  },
  {
   "cell_type": "code",
   "execution_count": null,
   "metadata": {},
   "outputs": [],
   "source": [
    "def by_country(df):\n",
    "    return df.drop(columns=['Province/State', 'Lat', 'Long']).groupby('Country/Region').sum().sort_values([df.columns.tolist()[-1]], ascending=False)\n",
    "\n",
    "confirmed_country = by_country(confirmed)\n",
    "deaths_country = by_country(deaths)\n",
    "recovered_country = by_country(recovered)"
   ]
  },
  {
   "cell_type": "code",
   "execution_count": null,
   "metadata": {},
   "outputs": [],
   "source": [
    "confirmed_country.head(20)"
   ]
  },
  {
   "cell_type": "code",
   "execution_count": null,
   "metadata": {},
   "outputs": [],
   "source": [
    "active_country = confirmed_country.sub(deaths_country).sub(recovered_country).reindex(index=confirmed_country.index)\n",
    "active_country.head(10)"
   ]
  },
  {
   "cell_type": "code",
   "execution_count": null,
   "metadata": {},
   "outputs": [],
   "source": [
    "pd.DataFrame(confirmed_country.loc['Korea, South']).T"
   ]
  },
  {
   "cell_type": "code",
   "execution_count": null,
   "metadata": {},
   "outputs": [],
   "source": [
    "pd.DataFrame(deaths_country.loc['Germany']).T"
   ]
  },
  {
   "cell_type": "code",
   "execution_count": null,
   "metadata": {},
   "outputs": [],
   "source": [
    "pd.DataFrame(recovered_country.loc['Germany']).T"
   ]
  },
  {
   "cell_type": "code",
   "execution_count": null,
   "metadata": {},
   "outputs": [],
   "source": [
    "def relative(df, offset=OFFSET):\n",
    "    rows = []\n",
    "    for country, row in df.iterrows():\n",
    "        day_n = 0\n",
    "        data = dict()\n",
    "        data['country'] = country\n",
    "        for date, value in row.iteritems():\n",
    "            if confirmed_country.loc[country][date] >= offset or day_n > 0:\n",
    "                data[day_n] = value\n",
    "                day_n += 1\n",
    "        rows.append(data)\n",
    "    return pd.DataFrame.from_records(rows, index='country').dropna(how='all')"
   ]
  },
  {
   "cell_type": "code",
   "execution_count": null,
   "metadata": {},
   "outputs": [],
   "source": [
    "def plottable(df, countries=['China', 'Others', 'Cruise Ship'], mode='exclude'):\n",
    "    filtered = df[df.index.isin(countries)] if mode == 'include' else df[~df.index.isin(countries)]\n",
    "    plot_data = filtered.head(8).T.dropna(how='all')\n",
    "    return plot_data"
   ]
  },
  {
   "cell_type": "code",
   "execution_count": null,
   "metadata": {},
   "outputs": [],
   "source": [
    "def plot_linear(plot_data, what='Confirmed', offset=OFFSET):\n",
    "    fig, ax = plt.subplots(figsize=(10,6), dpi=150)\n",
    "    sns.lineplot(ax=ax, data=plot_data, dashes=False, markers=True, hue='country')\n",
    "    plt.legend(loc='upper left')\n",
    "    ax.set(xlabel=('Day N after the first %d Confirmed Cases' % offset), ylabel=('%s Cases' % what))\n",
    "    return ax"
   ]
  },
  {
   "cell_type": "code",
   "execution_count": null,
   "metadata": {},
   "outputs": [],
   "source": [
    "def plot_log(plot_data, what='Confirmed', growth_rate=0.30, offset=OFFSET, ymin=80):\n",
    "    fig, ax = plt.subplots(figsize=(10,5.5), dpi=150)\n",
    "    sns.lineplot(ax=ax, data=plot_data, dashes=False, markers=True, hue='country')\n",
    "    plt.legend(loc='upper left')\n",
    "    ax.set(xlabel=('Day N after the first %d Confirmed Cases' % offset), ylabel=('%s Cases' % what))\n",
    "    ax.set_yscale('log')\n",
    "    ax.set_ylim(bottom=ymin)\n",
    "    x = np.arange(0, len(plot_data), 1)\n",
    "    y = offset*np.exp(x*growth_rate)\n",
    "\n",
    "    plt.plot(x, y, 'k-')\n",
    "    return ax"
   ]
  },
  {
   "cell_type": "code",
   "execution_count": null,
   "metadata": {},
   "outputs": [],
   "source": [
    "plot_linear(plottable(relative(confirmed_country)))"
   ]
  },
  {
   "cell_type": "code",
   "execution_count": null,
   "metadata": {},
   "outputs": [],
   "source": [
    "plot_linear(plottable(relative(active_country)), what='Active')"
   ]
  },
  {
   "cell_type": "code",
   "execution_count": null,
   "metadata": {},
   "outputs": [],
   "source": [
    "plot_log(plottable(relative(confirmed_country)))"
   ]
  },
  {
   "cell_type": "code",
   "execution_count": null,
   "metadata": {},
   "outputs": [],
   "source": [
    "plot_log(plottable(relative(active_country)), what='Active')"
   ]
  },
  {
   "cell_type": "code",
   "execution_count": null,
   "metadata": {},
   "outputs": [],
   "source": [
    "plot_linear(plottable(relative(active_country), countries=['Other']), what='Active')"
   ]
  },
  {
   "cell_type": "code",
   "execution_count": null,
   "metadata": {},
   "outputs": [],
   "source": [
    "plot_log(plottable(relative(active_country), countries=['Other']), what='Active')"
   ]
  },
  {
   "cell_type": "code",
   "execution_count": null,
   "metadata": {},
   "outputs": [],
   "source": [
    "plottable(active_country).index"
   ]
  },
  {
   "cell_type": "code",
   "execution_count": null,
   "metadata": {},
   "outputs": [],
   "source": [
    "plot_data = plottable(active_country, countries=['Other']).iloc[20:]\n",
    "what = 'Active'\n",
    "plot_data = plot_data.reset_index().rename(columns={\"index\":\"day\"})\n",
    "fig, ax = plt.subplots(figsize=(10,6), dpi=150)\n",
    "plot_data.plot.line(ax=ax, style='-', rot=45, xticks=plot_data.index)\n",
    "plt.legend(loc='upper left')\n",
    "ax.set(ylabel=('%s Cases' % what))\n",
    "ax.set_xticklabels(plot_data[\"day\"], fontsize='x-small', horizontalalignment='right');"
   ]
  },
  {
   "cell_type": "code",
   "execution_count": null,
   "metadata": {},
   "outputs": [],
   "source": [
    "plot_data = plottable(deaths_country, countries=['Other']).iloc[30:]\n",
    "what = 'Deaths'\n",
    "plot_data = plot_data.reset_index().rename(columns={\"index\":\"day\"})\n",
    "fig, ax = plt.subplots(figsize=(10,6), dpi=150)\n",
    "plot_data.plot.line(ax=ax, style='.-', rot=45, xticks=plot_data.index)\n",
    "plt.legend(loc='upper left')\n",
    "ax.set(ylabel=('%s' % what))\n",
    "ax.set_xticklabels(plot_data[\"day\"], fontsize='x-small', horizontalalignment='right');"
   ]
  },
  {
   "cell_type": "code",
   "execution_count": null,
   "metadata": {},
   "outputs": [],
   "source": [
    "url=\"https://services9.arcgis.com/N9p5hsImWXAccRNI/arcgis/rest/services/Z7biAeD8PAkqgmWhxG2A/FeatureServer/1/query?f=json&where=Confirmed%20%3E%200&returnGeometry=false&spatialRel=esriSpatialRelIntersects&outFields=*&orderByFields=Confirmed%20desc%2CCountry_Region%20asc%2CProvince_State%20asc&resultOffset=0&resultRecordCount=250&cacheHint=true\"\n",
    "s=requests.get(url).json()\n",
    "d=[feature['attributes'] for feature in s['features']]\n",
    "df=pd.DataFrame(d)"
   ]
  },
  {
   "cell_type": "code",
   "execution_count": null,
   "metadata": {},
   "outputs": [],
   "source": [
    "active_country.head()"
   ]
  },
  {
   "cell_type": "code",
   "execution_count": null,
   "metadata": {},
   "outputs": [],
   "source": [
    "df1=df[['Country_Region', 'Active', 'Deaths', 'Confirmed', 'Recovered']]\n",
    "grouped=df1.rename(columns={\"Country_Region\":\"Country/Region\"}).groupby('Country/Region').sum().sort_values(['Confirmed'], ascending=False)\n",
    "grouped.head()"
   ]
  },
  {
   "cell_type": "code",
   "execution_count": null,
   "metadata": {},
   "outputs": [],
   "source": [
    "plot_log(plottable(relative(confirmed_country), countries=['China', 'Others', 'Cruise Ship', 'Iran', 'Korea, South', 'Italy']), growth_rate=0.30, offset=100)"
   ]
  },
  {
   "cell_type": "code",
   "execution_count": null,
   "metadata": {},
   "outputs": [],
   "source": [
    "plot_log(plottable(relative(active_country), countries=['China', 'Others', 'Cruise Ship', 'Iran', 'Korea, South', 'Italy']), growth_rate=0.30, offset=100, what='Active')"
   ]
  },
  {
   "cell_type": "code",
   "execution_count": null,
   "metadata": {},
   "outputs": [],
   "source": [
    "plot_log(plottable(relative(confirmed_country), countries=['China', 'Others', 'Cruise Ship', 'Iran', 'Korea, South']), growth_rate=0.30, offset=100)"
   ]
  },
  {
   "cell_type": "code",
   "execution_count": null,
   "metadata": {},
   "outputs": [],
   "source": [
    "plot_log(plottable(relative(deaths_country)), what='Death', ymin=1, offset=1)"
   ]
  },
  {
   "cell_type": "code",
   "execution_count": null,
   "metadata": {},
   "outputs": [],
   "source": [
    "plot_linear(plottable(relative(confirmed_country, offset=30), countries=['Czechia', 'Germany', 'Italy'], mode='include').head(10), offset=30)\n",
    "#plot_log(plottable(relative(confirmed_country), countries=['China', 'Others', 'Cruise Ship', 'Iran', 'Korea, South']), growth_rate=0.30, offset=100)"
   ]
  },
  {
   "cell_type": "code",
   "execution_count": null,
   "metadata": {},
   "outputs": [],
   "source": []
  }
 ],
 "metadata": {
  "kernelspec": {
   "display_name": "Python 3",
   "language": "python",
   "name": "python3"
  },
  "language_info": {
   "codemirror_mode": {
    "name": "ipython",
    "version": 3
   },
   "file_extension": ".py",
   "mimetype": "text/x-python",
   "name": "python",
   "nbconvert_exporter": "python",
   "pygments_lexer": "ipython3",
   "version": "3.5.6"
  }
 },
 "nbformat": 4,
 "nbformat_minor": 2
}
